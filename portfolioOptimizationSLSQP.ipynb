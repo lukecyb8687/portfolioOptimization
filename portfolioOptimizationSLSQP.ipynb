{
  "nbformat": 4,
  "nbformat_minor": 0,
  "metadata": {
    "colab": {
      "name": "portfolioOptimizationSLSQP.ipynb",
      "provenance": [],
      "collapsed_sections": [],
      "toc_visible": true
    },
    "kernelspec": {
      "name": "python3",
      "display_name": "Python 3"
    }
  },
  "cells": [
    {
      "cell_type": "markdown",
      "metadata": {
        "id": "YINpHoVNqmoO",
        "colab_type": "text"
      },
      "source": [
        "# Dependencies\n",
        "\n"
      ]
    },
    {
      "cell_type": "code",
      "metadata": {
        "id": "HcWkJeCAG_T0",
        "colab_type": "code",
        "colab": {}
      },
      "source": [
        "import pandas as pd\n",
        "from datetime import datetime\n",
        "from pandas_datareader import data as web\n",
        "import numpy as np\n",
        "import matplotlib.pyplot as plt\n",
        "import math\n",
        "from scipy.optimize import minimize\n"
      ],
      "execution_count": 0,
      "outputs": []
    },
    {
      "cell_type": "markdown",
      "metadata": {
        "id": "0H333oOsqqH9",
        "colab_type": "text"
      },
      "source": [
        "# Data Cleaning"
      ]
    },
    {
      "cell_type": "code",
      "metadata": {
        "id": "kj-VcZa5HDm-",
        "colab_type": "code",
        "colab": {}
      },
      "source": [
        "stockRefDate = '2019-12-10'\n",
        "stockTodayDate = datetime.today().strftime('%Y-%m-%d')\n",
        "capital = 1e6"
      ],
      "execution_count": 0,
      "outputs": []
    },
    {
      "cell_type": "code",
      "metadata": {
        "id": "MumMorxrH4ez",
        "colab_type": "code",
        "colab": {}
      },
      "source": [
        "assets = [\"UBER\",\"ZM\",\"GOOG\",\"RTX\",\"AMZN\"]\n",
        "#Social Media, Tech, Private transport\n",
        "weights = {\n",
        "  \"UBER\": 0.2,\n",
        "  \"ZM\": 0.2,\n",
        "  \"GOOG\": 0.2,\n",
        "  \"RTX\": 0.2,\n",
        "  \"AMZN\":0.2\n",
        "}"
      ],
      "execution_count": 0,
      "outputs": []
    },
    {
      "cell_type": "code",
      "metadata": {
        "id": "-at3aV2rJM9x",
        "colab_type": "code",
        "colab": {}
      },
      "source": [
        "dfTicker = pd.DataFrame()\n",
        "for ticker in assets:\n",
        "    dfTicker[ticker] = web.DataReader(ticker,'yahoo',stockRefDate,stockTodayDate)['Adj Close']\n",
        "\n",
        "dfTickerNormReturn = pd.DataFrame()\n",
        "for ticker in assets:\n",
        "    dfTickerNormReturn[ticker] = dfTicker[ticker]/dfTicker[ticker][0]\n",
        "\n",
        "dfTickerAllocation = pd.DataFrame()\n",
        "for ticker in assets:\n",
        "    dfTickerAllocation[ticker] = dfTickerNormReturn[ticker]*weights[ticker]\n",
        "\n",
        "dfTickerPositionValue = pd.DataFrame()\n",
        "for ticker in assets:\n",
        "    dfTickerPositionValue[ticker] = dfTickerAllocation[ticker]*capital\n",
        "dfTickerPositionValue['Total'] = dfTickerPositionValue.sum(axis = 1, skipna = True) "
      ],
      "execution_count": 0,
      "outputs": []
    },
    {
      "cell_type": "code",
      "metadata": {
        "id": "2r5vDxogOa95",
        "colab_type": "code",
        "outputId": "2487844b-27b7-4918-afd5-16dd23edf7bd",
        "colab": {
          "base_uri": "https://localhost:8080/",
          "height": 428
        }
      },
      "source": [
        "dfTickerPositionValue"
      ],
      "execution_count": 19,
      "outputs": [
        {
          "output_type": "execute_result",
          "data": {
            "text/html": [
              "<div>\n",
              "<style scoped>\n",
              "    .dataframe tbody tr th:only-of-type {\n",
              "        vertical-align: middle;\n",
              "    }\n",
              "\n",
              "    .dataframe tbody tr th {\n",
              "        vertical-align: top;\n",
              "    }\n",
              "\n",
              "    .dataframe thead th {\n",
              "        text-align: right;\n",
              "    }\n",
              "</style>\n",
              "<table border=\"1\" class=\"dataframe\">\n",
              "  <thead>\n",
              "    <tr style=\"text-align: right;\">\n",
              "      <th></th>\n",
              "      <th>UBER</th>\n",
              "      <th>ZM</th>\n",
              "      <th>GOOG</th>\n",
              "      <th>RTX</th>\n",
              "      <th>AMZN</th>\n",
              "      <th>Total</th>\n",
              "    </tr>\n",
              "    <tr>\n",
              "      <th>Date</th>\n",
              "      <th></th>\n",
              "      <th></th>\n",
              "      <th></th>\n",
              "      <th></th>\n",
              "      <th></th>\n",
              "      <th></th>\n",
              "    </tr>\n",
              "  </thead>\n",
              "  <tbody>\n",
              "    <tr>\n",
              "      <th>2019-12-10</th>\n",
              "      <td>200000.000000</td>\n",
              "      <td>200000.000000</td>\n",
              "      <td>200000.000000</td>\n",
              "      <td>200000.000000</td>\n",
              "      <td>200000.000000</td>\n",
              "      <td>1.000000e+06</td>\n",
              "    </tr>\n",
              "    <tr>\n",
              "      <th>2019-12-11</th>\n",
              "      <td>203800.650400</td>\n",
              "      <td>196747.718005</td>\n",
              "      <td>200053.542954</td>\n",
              "      <td>202614.016645</td>\n",
              "      <td>201093.601115</td>\n",
              "      <td>1.004310e+06</td>\n",
              "    </tr>\n",
              "    <tr>\n",
              "      <th>2019-12-12</th>\n",
              "      <td>205736.831566</td>\n",
              "      <td>193557.385702</td>\n",
              "      <td>200834.409473</td>\n",
              "      <td>205558.222925</td>\n",
              "      <td>202428.688381</td>\n",
              "      <td>1.008116e+06</td>\n",
              "    </tr>\n",
              "    <tr>\n",
              "      <th>2019-12-13</th>\n",
              "      <td>204302.620255</td>\n",
              "      <td>196809.667697</td>\n",
              "      <td>200471.483021</td>\n",
              "      <td>205090.464050</td>\n",
              "      <td>202498.833488</td>\n",
              "      <td>1.009173e+06</td>\n",
              "    </tr>\n",
              "    <tr>\n",
              "      <th>2019-12-16</th>\n",
              "      <td>215489.421977</td>\n",
              "      <td>205513.392559</td>\n",
              "      <td>202455.640734</td>\n",
              "      <td>205627.015924</td>\n",
              "      <td>203449.842247</td>\n",
              "      <td>1.032535e+06</td>\n",
              "    </tr>\n",
              "    <tr>\n",
              "      <th>...</th>\n",
              "      <td>...</td>\n",
              "      <td>...</td>\n",
              "      <td>...</td>\n",
              "      <td>...</td>\n",
              "      <td>...</td>\n",
              "      <td>...</td>\n",
              "    </tr>\n",
              "    <tr>\n",
              "      <th>2020-05-04</th>\n",
              "      <td>196629.621200</td>\n",
              "      <td>444293.024994</td>\n",
              "      <td>197343.568650</td>\n",
              "      <td>129266.938118</td>\n",
              "      <td>266326.670414</td>\n",
              "      <td>1.233860e+06</td>\n",
              "    </tr>\n",
              "    <tr>\n",
              "      <th>2020-05-05</th>\n",
              "      <td>201290.787444</td>\n",
              "      <td>448567.470989</td>\n",
              "      <td>200959.343032</td>\n",
              "      <td>129596.423904</td>\n",
              "      <td>266534.817634</td>\n",
              "      <td>1.246949e+06</td>\n",
              "    </tr>\n",
              "    <tr>\n",
              "      <th>2020-05-06</th>\n",
              "      <td>199498.030144</td>\n",
              "      <td>463342.100186</td>\n",
              "      <td>200392.666485</td>\n",
              "      <td>127224.146359</td>\n",
              "      <td>270382.537195</td>\n",
              "      <td>1.260839e+06</td>\n",
              "    </tr>\n",
              "    <tr>\n",
              "      <th>2020-05-07</th>\n",
              "      <td>221799.935332</td>\n",
              "      <td>488771.887247</td>\n",
              "      <td>204149.751417</td>\n",
              "      <td>125225.286597</td>\n",
              "      <td>272262.712450</td>\n",
              "      <td>1.312210e+06</td>\n",
              "    </tr>\n",
              "    <tr>\n",
              "      <th>2020-05-08</th>\n",
              "      <td>235138.054020</td>\n",
              "      <td>481338.066071</td>\n",
              "      <td>206501.265722</td>\n",
              "      <td>128871.558528</td>\n",
              "      <td>273642.649349</td>\n",
              "      <td>1.325492e+06</td>\n",
              "    </tr>\n",
              "  </tbody>\n",
              "</table>\n",
              "<p>104 rows × 6 columns</p>\n",
              "</div>"
            ],
            "text/plain": [
              "                     UBER             ZM  ...           AMZN         Total\n",
              "Date                                      ...                             \n",
              "2019-12-10  200000.000000  200000.000000  ...  200000.000000  1.000000e+06\n",
              "2019-12-11  203800.650400  196747.718005  ...  201093.601115  1.004310e+06\n",
              "2019-12-12  205736.831566  193557.385702  ...  202428.688381  1.008116e+06\n",
              "2019-12-13  204302.620255  196809.667697  ...  202498.833488  1.009173e+06\n",
              "2019-12-16  215489.421977  205513.392559  ...  203449.842247  1.032535e+06\n",
              "...                   ...            ...  ...            ...           ...\n",
              "2020-05-04  196629.621200  444293.024994  ...  266326.670414  1.233860e+06\n",
              "2020-05-05  201290.787444  448567.470989  ...  266534.817634  1.246949e+06\n",
              "2020-05-06  199498.030144  463342.100186  ...  270382.537195  1.260839e+06\n",
              "2020-05-07  221799.935332  488771.887247  ...  272262.712450  1.312210e+06\n",
              "2020-05-08  235138.054020  481338.066071  ...  273642.649349  1.325492e+06\n",
              "\n",
              "[104 rows x 6 columns]"
            ]
          },
          "metadata": {
            "tags": []
          },
          "execution_count": 19
        }
      ]
    },
    {
      "cell_type": "markdown",
      "metadata": {
        "id": "j3lpzNjfqiYe",
        "colab_type": "text"
      },
      "source": [
        "## Position Value Visualization"
      ]
    },
    {
      "cell_type": "code",
      "metadata": {
        "id": "_dd68DotOpzU",
        "colab_type": "code",
        "outputId": "e3d56e9d-d513-4ef8-e428-33a00d9c6469",
        "colab": {
          "base_uri": "https://localhost:8080/",
          "height": 277
        }
      },
      "source": [
        "dfTickerPositionValue.drop('Total',axis=1).plot()\n",
        "plt.show()"
      ],
      "execution_count": 20,
      "outputs": [
        {
          "output_type": "display_data",
          "data": {
            "image/png": "[encoded data removed]",
            "text/plain": [
              "<Figure size 432x288 with 1 Axes>"
            ]
          },
          "metadata": {
            "tags": [],
            "needs_background": "light"
          }
        }
      ]
    },
    {
      "cell_type": "markdown",
      "metadata": {
        "id": "BCvHjLrTR-vL",
        "colab_type": "text"
      },
      "source": [
        "## Returns, Risk & Sharpe Ratio\n",
        "Daily Returns = (P<sup>+</sup>- P)/(P)"
      ]
    },
    {
      "cell_type": "code",
      "metadata": {
        "id": "5rtLN98vQlnl",
        "colab_type": "code",
        "colab": {}
      },
      "source": [
        "dfTickerPositionValue['Returns Daily'] = dfTickerPositionValue['Total'].pct_change(periods=1)"
      ],
      "execution_count": 0,
      "outputs": []
    },
    {
      "cell_type": "code",
      "metadata": {
        "id": "IwIyVW3sQ38d",
        "colab_type": "code",
        "colab": {}
      },
      "source": [
        "portfolioAvgReturn = dfTickerPositionValue['Returns Daily'].mean()\n",
        "portfolioStdDev = dfTickerPositionValue['Returns Daily'].std()\n",
        "portfolioCummulativeReturn = ((dfTickerPositionValue['Total'][-1] / dfTickerPositionValue['Total'][0])-1)*100\n",
        "riskFreeRate = 0\n",
        "sharpeRatio = (portfolioAvgReturn-riskFreeRate)/portfolioStdDev\n",
        "# Assuming 252 trading days in a year:\n",
        "sharpeRatioAnnualized = math.sqrt(252)*sharpeRatio"
      ],
      "execution_count": 0,
      "outputs": []
    },
    {
      "cell_type": "code",
      "metadata": {
        "id": "Zo4ZDzKmR8Kh",
        "colab_type": "code",
        "outputId": "ce5da99d-0fa9-4d8b-bb13-d1b05f7ff102",
        "colab": {
          "base_uri": "https://localhost:8080/",
          "height": 52
        }
      },
      "source": [
        "print(\"The portfolio's cummulative return over the specified time period is: \", portfolioCummulativeReturn, \"%.\")\n",
        "print(\"The annualized Sharpe Ratio is: \", sharpeRatioAnnualized, \".\")"
      ],
      "execution_count": 23,
      "outputs": [
        {
          "output_type": "stream",
          "text": [
            "The portfolio's cummulative return over the specified time period is:  32.54915936887641 %.\n",
            "The annualized Sharpe Ratio is:  1.8813353678990838 .\n"
          ],
          "name": "stdout"
        }
      ]
    },
    {
      "cell_type": "markdown",
      "metadata": {
        "id": "JOLNKgupY2RV",
        "colab_type": "text"
      },
      "source": [
        "# Maximizing Sharpe Ratio"
      ]
    },
    {
      "cell_type": "code",
      "metadata": {
        "id": "XPC03Y23TCBA",
        "colab_type": "code",
        "colab": {}
      },
      "source": [
        "dfTickerLogReturn = np.log(dfTicker/dfTicker.shift(1))"
      ],
      "execution_count": 0,
      "outputs": []
    },
    {
      "cell_type": "markdown",
      "metadata": {
        "id": "F2dLzGXkbr0q",
        "colab_type": "text"
      },
      "source": [
        "dfTickerLogReturn.cov() will be a 5*5 matrix."
      ]
    },
    {
      "cell_type": "markdown",
      "metadata": {
        "id": "RmbAYIWOcmb6",
        "colab_type": "text"
      },
      "source": [
        "## Setup"
      ]
    },
    {
      "cell_type": "code",
      "metadata": {
        "id": "b7YnZNaUZqMR",
        "colab_type": "code",
        "colab": {}
      },
      "source": [
        "numberOfPortfolios = 1000\n",
        "weightsStore = np.zeros([numberOfPortfolios,len(dfTicker.columns)])\n",
        "returnsStore = np.zeros(numberOfPortfolios)\n",
        "volatilityStore = np.zeros(numberOfPortfolios)\n",
        "sharpeRatioStore = np.zeros(numberOfPortfolios)\n",
        "for i in range(numberOfPortfolios):\n",
        "  weights = np.array(np.random.random(len(dfTicker.columns))) \n",
        "  weights = weights/np.sum(weights)  \n",
        "  weightsStore[i,:] = weights\n",
        "  returnsStore[i] = np.sum(dfTickerLogReturn.mean()*weights*252)\n",
        "  expectedPortfolioVarianceAnnualized = np.dot(weights.T,np.dot(dfTickerLogReturn.cov()*252,weights))\n",
        "  volatilityStore[i] = np.sqrt(expectedPortfolioVarianceAnnualized)\n",
        "  sharpeRatioStore[i] = returnsStore[i]/volatilityStore[i]"
      ],
      "execution_count": 0,
      "outputs": []
    },
    {
      "cell_type": "markdown",
      "metadata": {
        "id": "FB-EBcXmp2AX",
        "colab_type": "text"
      },
      "source": [
        "## Monte Carlo Method"
      ]
    },
    {
      "cell_type": "code",
      "metadata": {
        "id": "mcSeJEKnafjX",
        "colab_type": "code",
        "colab": {
          "base_uri": "https://localhost:8080/",
          "height": 336
        },
        "outputId": "45e72da2-f931-4db3-a9fb-79a72f1ae754"
      },
      "source": [
        "plt.scatter(volatilityStore,returnsStore,c=sharpeRatioStore,cmap='inferno')\n",
        "plt.scatter(volatilityStore[sharpeRatioStore.argmax()], returnsStore[sharpeRatioStore.argmax()],c='red',s=50,edgecolors='blue')\n",
        "plt.colorbar(label='Sharpe Ratio')\n",
        "plt.xlabel('volatility')\n",
        "plt.ylabel('returns')\n",
        "print('The best randomized portfolio (as seen from red dot in graph) is portfolio #',sharpeRatioStore.argmax(),'with weightage of',weightsStore[sharpeRatioStore.argmax(),:],\".\")\n",
        "print('The maximum randomized sharpe ratio is', sharpeRatioStore.max())"
      ],
      "execution_count": 87,
      "outputs": [
        {
          "output_type": "stream",
          "text": [
            "The best randomized portfolio (as seen from red dot in graph) is portfolio # 612 with weightage of [3.20559130e-04 3.88696608e-01 1.39882760e-01 2.87853769e-02\n",
            " 4.42314695e-01] .\n",
            "The maximum randomized sharpe ratio is 2.9615807483115177\n"
          ],
          "name": "stdout"
        },
        {
          "output_type": "display_data",
          "data": {
            "image/png": "[encoded data removed]",
            "text/plain": [
              "<Figure size 432x288 with 2 Axes>"
            ]
          },
          "metadata": {
            "tags": [],
            "needs_background": "light"
          }
        }
      ]
    },
    {
      "cell_type": "markdown",
      "metadata": {
        "id": "yOmNu2Svp-Ka",
        "colab_type": "text"
      },
      "source": [
        "## Optimization Setup"
      ]
    },
    {
      "cell_type": "code",
      "metadata": {
        "id": "HvSF_LZemVN-",
        "colab_type": "code",
        "colab": {
          "base_uri": "https://localhost:8080/",
          "height": 212
        },
        "outputId": "df83b609-4fc4-4f13-c752-88f7a48d4179"
      },
      "source": [
        "constraints = ({'type': 'eq', 'fun': constraintsSum})\n",
        "bounds = ((0,1),(0,1),(0,1),(0,1),(0,1))\n",
        "initialWeights = [0.2,0.2,0.2,0.2,0.2]"
      ],
      "execution_count": 86,
      "outputs": [
        {
          "output_type": "execute_result",
          "data": {
            "text/plain": [
              "     fun: -3.235724725115919\n",
              "     jac: array([ 3.56596380e-01,  6.21378422e-05,  8.04379791e-01,  2.33128673e+00,\n",
              "       -5.43892384e-05])\n",
              " message: 'Optimization terminated successfully.'\n",
              "    nfev: 59\n",
              "     nit: 8\n",
              "    njev: 8\n",
              "  status: 0\n",
              " success: True\n",
              "       x: array([0.00000000e+00, 4.67178546e-01, 0.00000000e+00, 6.06843233e-16,\n",
              "       5.32821454e-01])"
            ]
          },
          "metadata": {
            "tags": []
          },
          "execution_count": 86
        }
      ]
    },
    {
      "cell_type": "markdown",
      "metadata": {
        "id": "3HaaHyUNqBL5",
        "colab_type": "text"
      },
      "source": [
        "## Optimization Method"
      ]
    },
    {
      "cell_type": "code",
      "metadata": {
        "id": "qHSQfmoymeGJ",
        "colab_type": "code",
        "colab": {}
      },
      "source": [
        "def optimizerResults(constraints,bounds,initialWeights):\n",
        "\n",
        "  def model(weights):\n",
        "    weights=np.array(weights)\n",
        "    modelReturns = np.sum(dfTickerLogReturn.mean()*weights*252)\n",
        "    modelVariance = np.dot(weights.T,np.dot(dfTickerLogReturn.cov()*252,weights))\n",
        "    modelVolatility = np.sqrt(modelVariance)\n",
        "    modelSharpeRatio = modelReturns/modelVolatility  \n",
        "    return modelReturns, modelVolatility, modelSharpeRatio\n",
        "\n",
        "  def minSharpeRatio(weights):\n",
        "    minSR = model(weights)[2]*-1\n",
        "    return minSR\n",
        "\n",
        "  def constraintsSum(weights):\n",
        "    return np.sum(weights)-1\n",
        "\n",
        "  optimalResults = minimize(minSharpeRatio,initialWeights,method='SLSQP', bounds=bounds,constraints=constraints)\n",
        "  optimalWeights = optimalResults.x\n",
        "  optimalReturns = model(optimalWeights)[0]\n",
        "  optimalVolatiliy = model(optimalWeights)[1]\n",
        "  optimalSharpeRatio = model(optimalWeights)[2]\n",
        "\n",
        "  return optimalWeights, optimalReturns, optimalVolatiliy, optimalSharpeRatio"
      ],
      "execution_count": 0,
      "outputs": []
    },
    {
      "cell_type": "markdown",
      "metadata": {
        "id": "6JGM7bzjqXIs",
        "colab_type": "text"
      },
      "source": [
        "## Comparison between Sequential Least Squares optimization vs. simple monte carlo randomization method"
      ]
    },
    {
      "cell_type": "code",
      "metadata": {
        "id": "5tC5kZfPnMEu",
        "colab_type": "code",
        "colab": {
          "base_uri": "https://localhost:8080/",
          "height": 35
        },
        "outputId": "651a0c68-a376-43f9-ffc3-203402a1367f"
      },
      "source": [
        "print('The optimal sharpe ratio is',optimizerResults(constraints,bounds,initialWeights)[3],'which is HIGHER as compared to the monte carlo method sharpe ratio of',sharpeRatioStore.max(),'.')"
      ],
      "execution_count": 88,
      "outputs": [
        {
          "output_type": "stream",
          "text": [
            "The optimal sharpe ratio is 3.235724725115919 which is HIGHER as compared to the monte carlo method sharpe ratio of 2.9615807483115177 .\n"
          ],
          "name": "stdout"
        }
      ]
    }
  ]
}